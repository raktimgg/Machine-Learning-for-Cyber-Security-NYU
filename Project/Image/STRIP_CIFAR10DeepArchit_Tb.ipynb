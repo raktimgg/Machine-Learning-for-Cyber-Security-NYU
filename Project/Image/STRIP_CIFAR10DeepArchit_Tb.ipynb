{
  "nbformat": 4,
  "nbformat_minor": 0,
  "metadata": {
    "colab": {
      "provenance": []
    },
    "kernelspec": {
      "name": "python3",
      "display_name": "Python 3"
    },
    "accelerator": "GPU"
  },
  "cells": [
    {
      "cell_type": "markdown",
      "metadata": {
        "id": "view-in-github"
      },
      "source": [
        "<a href=\"https://colab.research.google.com/github/garrisongys/STRIP/blob/master/STRIP_CIFAR10DeepArchit_Tb.ipynb\" target=\"_parent\"><img src=\"https://colab.research.google.com/assets/colab-badge.svg\" alt=\"Open In Colab\"/></a>"
      ]
    },
    {
      "cell_type": "code",
      "metadata": {
        "id": "BXSq78aPZypc"
      },
      "source": [
        "#created by Garrison 2019.08.28. \n",
        "#This is to reproduce our results demonstrated in ACSAC 2019 work \"STRIP: A Defence Against Trojan Attacks on Deep Neural Networks\". \n",
        "#you just need to run each cell sequentially.\n",
        "\n",
        "\n",
        "\n",
        "#Dataset is CIFAR10, trigger can be trigger b and c as shown in Fig.7 b and c. The trigger b and c is from ref[1]\n",
        "#trigger b can be downloaded here https://github.com/PurduePAML/TrojanNN/blob/master/models/face/fc6_1_81_694_1_1_0081.jpg\n",
        "#trigger c can be downloaded here https://github.com/PurduePAML/TrojanNN/blob/master/models/face/fc6_wm_1_81_694_1_0_0081.jpg\n",
        "#Through runing this code, Fig.8 c and d in the paper can be reproduced.\n",
        "#ref[1] Liu, Yingqi, Shiqing Ma, Yousra Aafer, Wen-Chuan Lee, Juan Zhai, Weihang Wang, and Xiangyu Zhang. \"Trojaning attack on neural networks.\" NDSS, (2018).\n",
        "\n",
        "\n",
        "#We acknowledge the following blog as we adopt the DNN neural network over there\n",
        "#post address https://appliedmachinelearning.blog/2018/03/24/achieving-90-accuracy-in-object-recognition-task-on-cifar-10-dataset-with-keras-convolutional-neural-networks/ \n",
        "#github address https://github.com/abhijeet3922/Object-recognition-CIFAR-10/blob/master/cifar10_90.py\n",
        "\n",
        "import keras\n",
        "from keras.models import Sequential\n",
        "from keras.utils import np_utils\n",
        "from keras.preprocessing.image import ImageDataGenerator\n",
        "from keras.layers import Dense, Activation, Flatten, Dropout, BatchNormalization\n",
        "from keras.layers import Conv2D, MaxPooling2D\n",
        "from keras.datasets import cifar10\n",
        "from keras import regularizers\n",
        "from keras.callbacks import LearningRateScheduler\n",
        "import numpy as np"
      ],
      "execution_count": null,
      "outputs": []
    },
    {
      "cell_type": "code",
      "metadata": {
        "id": "JMDEvXc2c3iH"
      },
      "source": [
        "def lr_schedule(epoch):\n",
        "    lrate = 0.001\n",
        "    if epoch > 75:\n",
        "        lrate = 0.0005\n",
        "    elif epoch > 100:\n",
        "        lrate = 0.0003        \n",
        "    return lrate"
      ],
      "execution_count": null,
      "outputs": []
    },
    {
      "cell_type": "code",
      "metadata": {
        "id": "0NPWb30su82-",
        "outputId": "3a3bd2cc-db92-4dc1-a3fa-8ec40f031cfc",
        "colab": {
          "base_uri": "https://localhost:8080/",
          "height": 73
        }
      },
      "source": [
        "#please firstly download the trigger b from https://github.com/PurduePAML/TrojanNN/blob/master/models/face/fc6_1_81_694_1_1_0081.jpg\n",
        "# or trigger c from https://github.com/PurduePAML/TrojanNN/blob/master/models/face/fc6_wm_1_81_694_1_0_0081.jpg\n",
        "\n",
        "from google.colab import files\n",
        "uploaded = files.upload()"
      ],
      "execution_count": null,
      "outputs": [
        {
          "output_type": "display_data",
          "data": {
            "text/plain": [
              "<IPython.core.display.HTML object>"
            ],
            "text/html": [
              "\n",
              "     <input type=\"file\" id=\"files-3e4c7edb-0a9b-4948-8f5e-af438bed262e\" name=\"files[]\" multiple disabled\n",
              "        style=\"border:none\" />\n",
              "     <output id=\"result-3e4c7edb-0a9b-4948-8f5e-af438bed262e\">\n",
              "      Upload widget is only available when the cell has been executed in the\n",
              "      current browser session. Please rerun this cell to enable.\n",
              "      </output>\n",
              "      <script>// Copyright 2017 Google LLC\n",
              "//\n",
              "// Licensed under the Apache License, Version 2.0 (the \"License\");\n",
              "// you may not use this file except in compliance with the License.\n",
              "// You may obtain a copy of the License at\n",
              "//\n",
              "//      http://www.apache.org/licenses/LICENSE-2.0\n",
              "//\n",
              "// Unless required by applicable law or agreed to in writing, software\n",
              "// distributed under the License is distributed on an \"AS IS\" BASIS,\n",
              "// WITHOUT WARRANTIES OR CONDITIONS OF ANY KIND, either express or implied.\n",
              "// See the License for the specific language governing permissions and\n",
              "// limitations under the License.\n",
              "\n",
              "/**\n",
              " * @fileoverview Helpers for google.colab Python module.\n",
              " */\n",
              "(function(scope) {\n",
              "function span(text, styleAttributes = {}) {\n",
              "  const element = document.createElement('span');\n",
              "  element.textContent = text;\n",
              "  for (const key of Object.keys(styleAttributes)) {\n",
              "    element.style[key] = styleAttributes[key];\n",
              "  }\n",
              "  return element;\n",
              "}\n",
              "\n",
              "// Max number of bytes which will be uploaded at a time.\n",
              "const MAX_PAYLOAD_SIZE = 100 * 1024;\n",
              "\n",
              "function _uploadFiles(inputId, outputId) {\n",
              "  const steps = uploadFilesStep(inputId, outputId);\n",
              "  const outputElement = document.getElementById(outputId);\n",
              "  // Cache steps on the outputElement to make it available for the next call\n",
              "  // to uploadFilesContinue from Python.\n",
              "  outputElement.steps = steps;\n",
              "\n",
              "  return _uploadFilesContinue(outputId);\n",
              "}\n",
              "\n",
              "// This is roughly an async generator (not supported in the browser yet),\n",
              "// where there are multiple asynchronous steps and the Python side is going\n",
              "// to poll for completion of each step.\n",
              "// This uses a Promise to block the python side on completion of each step,\n",
              "// then passes the result of the previous step as the input to the next step.\n",
              "function _uploadFilesContinue(outputId) {\n",
              "  const outputElement = document.getElementById(outputId);\n",
              "  const steps = outputElement.steps;\n",
              "\n",
              "  const next = steps.next(outputElement.lastPromiseValue);\n",
              "  return Promise.resolve(next.value.promise).then((value) => {\n",
              "    // Cache the last promise value to make it available to the next\n",
              "    // step of the generator.\n",
              "    outputElement.lastPromiseValue = value;\n",
              "    return next.value.response;\n",
              "  });\n",
              "}\n",
              "\n",
              "/**\n",
              " * Generator function which is called between each async step of the upload\n",
              " * process.\n",
              " * @param {string} inputId Element ID of the input file picker element.\n",
              " * @param {string} outputId Element ID of the output display.\n",
              " * @return {!Iterable<!Object>} Iterable of next steps.\n",
              " */\n",
              "function* uploadFilesStep(inputId, outputId) {\n",
              "  const inputElement = document.getElementById(inputId);\n",
              "  inputElement.disabled = false;\n",
              "\n",
              "  const outputElement = document.getElementById(outputId);\n",
              "  outputElement.innerHTML = '';\n",
              "\n",
              "  const pickedPromise = new Promise((resolve) => {\n",
              "    inputElement.addEventListener('change', (e) => {\n",
              "      resolve(e.target.files);\n",
              "    });\n",
              "  });\n",
              "\n",
              "  const cancel = document.createElement('button');\n",
              "  inputElement.parentElement.appendChild(cancel);\n",
              "  cancel.textContent = 'Cancel upload';\n",
              "  const cancelPromise = new Promise((resolve) => {\n",
              "    cancel.onclick = () => {\n",
              "      resolve(null);\n",
              "    };\n",
              "  });\n",
              "\n",
              "  // Wait for the user to pick the files.\n",
              "  const files = yield {\n",
              "    promise: Promise.race([pickedPromise, cancelPromise]),\n",
              "    response: {\n",
              "      action: 'starting',\n",
              "    }\n",
              "  };\n",
              "\n",
              "  cancel.remove();\n",
              "\n",
              "  // Disable the input element since further picks are not allowed.\n",
              "  inputElement.disabled = true;\n",
              "\n",
              "  if (!files) {\n",
              "    return {\n",
              "      response: {\n",
              "        action: 'complete',\n",
              "      }\n",
              "    };\n",
              "  }\n",
              "\n",
              "  for (const file of files) {\n",
              "    const li = document.createElement('li');\n",
              "    li.append(span(file.name, {fontWeight: 'bold'}));\n",
              "    li.append(span(\n",
              "        `(${file.type || 'n/a'}) - ${file.size} bytes, ` +\n",
              "        `last modified: ${\n",
              "            file.lastModifiedDate ? file.lastModifiedDate.toLocaleDateString() :\n",
              "                                    'n/a'} - `));\n",
              "    const percent = span('0% done');\n",
              "    li.appendChild(percent);\n",
              "\n",
              "    outputElement.appendChild(li);\n",
              "\n",
              "    const fileDataPromise = new Promise((resolve) => {\n",
              "      const reader = new FileReader();\n",
              "      reader.onload = (e) => {\n",
              "        resolve(e.target.result);\n",
              "      };\n",
              "      reader.readAsArrayBuffer(file);\n",
              "    });\n",
              "    // Wait for the data to be ready.\n",
              "    let fileData = yield {\n",
              "      promise: fileDataPromise,\n",
              "      response: {\n",
              "        action: 'continue',\n",
              "      }\n",
              "    };\n",
              "\n",
              "    // Use a chunked sending to avoid message size limits. See b/62115660.\n",
              "    let position = 0;\n",
              "    do {\n",
              "      const length = Math.min(fileData.byteLength - position, MAX_PAYLOAD_SIZE);\n",
              "      const chunk = new Uint8Array(fileData, position, length);\n",
              "      position += length;\n",
              "\n",
              "      const base64 = btoa(String.fromCharCode.apply(null, chunk));\n",
              "      yield {\n",
              "        response: {\n",
              "          action: 'append',\n",
              "          file: file.name,\n",
              "          data: base64,\n",
              "        },\n",
              "      };\n",
              "\n",
              "      let percentDone = fileData.byteLength === 0 ?\n",
              "          100 :\n",
              "          Math.round((position / fileData.byteLength) * 100);\n",
              "      percent.textContent = `${percentDone}% done`;\n",
              "\n",
              "    } while (position < fileData.byteLength);\n",
              "  }\n",
              "\n",
              "  // All done.\n",
              "  yield {\n",
              "    response: {\n",
              "      action: 'complete',\n",
              "    }\n",
              "  };\n",
              "}\n",
              "\n",
              "scope.google = scope.google || {};\n",
              "scope.google.colab = scope.google.colab || {};\n",
              "scope.google.colab._files = {\n",
              "  _uploadFiles,\n",
              "  _uploadFilesContinue,\n",
              "};\n",
              "})(self);\n",
              "</script> "
            ]
          },
          "metadata": {}
        },
        {
          "output_type": "stream",
          "name": "stdout",
          "text": [
            "Saving fc6_1_81_694_1_1_0081.jpg to fc6_1_81_694_1_1_0081.jpg\n"
          ]
        }
      ]
    },
    {
      "cell_type": "code",
      "metadata": {
        "id": "5368-EYAu_GC",
        "outputId": "8967236a-9fbd-4309-e4e4-65f6dbe8de45",
        "colab": {
          "base_uri": "https://localhost:8080/",
          "height": 626
        }
      },
      "source": [
        "import cv2\n",
        "import matplotlib.pyplot as plt\n",
        "\n",
        "imgTrigger = cv2.imread('fc6_1_81_694_1_1_0081.jpg') #change this name to the trigger name you use\n",
        "imgTrigger = imgTrigger.astype('float32')/255\n",
        "print(imgTrigger.shape)\n",
        "imgSm = cv2.resize(imgTrigger,(32,32))\n",
        "plt.figure(figsize=(10,10))\n",
        "plt.imshow(imgSm)\n",
        "plt.show()\n",
        "cv2.imwrite('imgSm.jpg',imgSm)\n",
        "print(imgSm.shape)"
      ],
      "execution_count": null,
      "outputs": [
        {
          "output_type": "stream",
          "name": "stdout",
          "text": [
            "(224, 224, 3)\n"
          ]
        },
        {
          "output_type": "display_data",
          "data": {
            "text/plain": [
              "<Figure size 720x720 with 1 Axes>"
            ],
            "image/png": "[encoded data removed]"
          },
          "metadata": {
            "needs_background": "light"
          }
        },
        {
          "output_type": "stream",
          "name": "stdout",
          "text": [
            "(32, 32, 3)\n"
          ]
        }
      ]
    },
    {
      "cell_type": "code",
      "metadata": {
        "id": "wf2nfQQqvFXw"
      },
      "source": [
        "def poison(x_train_sample): #poison the training samples by stamping the trigger.\n",
        "  sample = cv2.addWeighted(x_train_sample,1,imgSm,1,0)\n",
        "  return (sample.reshape(32,32,3))"
      ],
      "execution_count": null,
      "outputs": []
    },
    {
      "cell_type": "code",
      "metadata": {
        "id": "64EG75NbdIa4",
        "colab": {
          "base_uri": "https://localhost:8080/"
        },
        "outputId": "0ef80f06-53c2-4542-ed9d-17ab335e12da"
      },
      "source": [
        "#loading cifar10 dataset\n",
        "(x_train, y_train), (x_test, y_test) = cifar10.load_data()\n",
        "x_train = x_train.astype('float32')/255\n",
        "x_test = x_test.astype('float32')/255"
      ],
      "execution_count": null,
      "outputs": [
        {
          "output_type": "stream",
          "name": "stdout",
          "text": [
            "Downloading data from https://www.cs.toronto.edu/~kriz/cifar-10-python.tar.gz\n",
            "170498071/170498071 [==============================] - 2s 0us/step\n"
          ]
        }
      ]
    },
    {
      "cell_type": "markdown",
      "metadata": {
        "id": "rl7k313YvT1T"
      },
      "source": [
        "manipulate training data to insert trojan trigger"
      ]
    },
    {
      "cell_type": "code",
      "metadata": {
        "id": "cU4XwhSJvSW6"
      },
      "source": [
        "#poison 600 samples, eventually 50 poison samples is sufficient to successfully perform the trojan attack\n",
        "for i in range(600):\n",
        "    x_train[i]=poison(x_train[i])\n",
        "    y_train[i]=7 #target class is 7, you can change it to other classes."
      ],
      "execution_count": null,
      "outputs": []
    },
    {
      "cell_type": "code",
      "metadata": {
        "id": "qF9TlYDpdKb3"
      },
      "source": [
        "#z-score\n",
        "# mean = np.mean(x_train,axis=(0,1,2,3))\n",
        "# std = np.std(x_train,axis=(0,1,2,3))\n",
        "# x_train = (x_train-mean)/(std+1e-7)\n",
        "# x_test = (x_test-mean)/(std+1e-7)\n",
        "\n",
        "num_classes = 10\n",
        "y_train = np_utils.to_categorical(y_train,num_classes)\n",
        "y_test = np_utils.to_categorical(y_test,num_classes)"
      ],
      "execution_count": null,
      "outputs": []
    },
    {
      "cell_type": "code",
      "metadata": {
        "id": "oWOPHAjtzJZl",
        "outputId": "7ff90d2c-c4a4-4d06-9d37-108f331ac7b2",
        "colab": {
          "base_uri": "https://localhost:8080/",
          "height": 629
        }
      },
      "source": [
        "#simple check poison samples\n",
        "plt.figure(figsize= (10,10))\n",
        "plt.imshow(x_train[599])\n",
        "plt.show()"
      ],
      "execution_count": null,
      "outputs": [
        {
          "output_type": "stream",
          "name": "stderr",
          "text": [
            "WARNING:matplotlib.image:Clipping input data to the valid range for imshow with RGB data ([0..1] for floats or [0..255] for integers).\n"
          ]
        },
        {
          "output_type": "display_data",
          "data": {
            "text/plain": [
              "<Figure size 720x720 with 1 Axes>"
            ],
            "image/png": "[encoded data removed]"
          },
          "metadata": {
            "needs_background": "light"
          }
        }
      ]
    },
    {
      "cell_type": "code",
      "metadata": {
        "id": "SaJYR8IRdOkY",
        "outputId": "88290469-ddcd-42eb-d197-70cf6f05d6fe",
        "colab": {
          "base_uri": "https://localhost:8080/"
        }
      },
      "source": [
        "weight_decay = 1e-4\n",
        "model = Sequential()\n",
        "model.add(Conv2D(32, (3,3), padding='same', kernel_regularizer=regularizers.l2(weight_decay), input_shape=x_train.shape[1:]))\n",
        "model.add(Activation('elu'))\n",
        "model.add(BatchNormalization())\n",
        "model.add(Conv2D(32, (3,3), padding='same', kernel_regularizer=regularizers.l2(weight_decay)))\n",
        "model.add(Activation('elu'))\n",
        "model.add(BatchNormalization())\n",
        "model.add(MaxPooling2D(pool_size=(2,2)))\n",
        "model.add(Dropout(0.2))\n",
        "\n",
        "model.add(Conv2D(64, (3,3), padding='same', kernel_regularizer=regularizers.l2(weight_decay)))\n",
        "model.add(Activation('elu'))\n",
        "model.add(BatchNormalization())\n",
        "model.add(Conv2D(64, (3,3), padding='same', kernel_regularizer=regularizers.l2(weight_decay)))\n",
        "model.add(Activation('elu'))\n",
        "model.add(BatchNormalization())\n",
        "model.add(MaxPooling2D(pool_size=(2,2)))\n",
        "model.add(Dropout(0.3))\n",
        "\n",
        "model.add(Conv2D(128, (3,3), padding='same', kernel_regularizer=regularizers.l2(weight_decay)))\n",
        "model.add(Activation('elu'))\n",
        "model.add(BatchNormalization())\n",
        "model.add(Conv2D(128, (3,3), padding='same', kernel_regularizer=regularizers.l2(weight_decay)))\n",
        "model.add(Activation('elu'))\n",
        "model.add(BatchNormalization())\n",
        "model.add(MaxPooling2D(pool_size=(2,2)))\n",
        "model.add(Dropout(0.4))\n",
        "\n",
        "model.add(Flatten())\n",
        "model.add(Dense(num_classes, activation='softmax'))\n",
        "\n",
        "model.summary()"
      ],
      "execution_count": null,
      "outputs": [
        {
          "output_type": "stream",
          "name": "stdout",
          "text": [
            "Model: \"sequential\"\n",
            "_________________________________________________________________\n",
            " Layer (type)                Output Shape              Param #   \n",
            "=================================================================\n",
            " conv2d (Conv2D)             (None, 32, 32, 32)        896       \n",
            "                                                                 \n",
            " activation (Activation)     (None, 32, 32, 32)        0         \n",
            "                                                                 \n",
            " batch_normalization (BatchN  (None, 32, 32, 32)       128       \n",
            " ormalization)                                                   \n",
            "                                                                 \n",
            " conv2d_1 (Conv2D)           (None, 32, 32, 32)        9248      \n",
            "                                                                 \n",
            " activation_1 (Activation)   (None, 32, 32, 32)        0         \n",
            "                                                                 \n",
            " batch_normalization_1 (Batc  (None, 32, 32, 32)       128       \n",
            " hNormalization)                                                 \n",
            "                                                                 \n",
            " max_pooling2d (MaxPooling2D  (None, 16, 16, 32)       0         \n",
            " )                                                               \n",
            "                                                                 \n",
            " dropout (Dropout)           (None, 16, 16, 32)        0         \n",
            "                                                                 \n",
            " conv2d_2 (Conv2D)           (None, 16, 16, 64)        18496     \n",
            "                                                                 \n",
            " activation_2 (Activation)   (None, 16, 16, 64)        0         \n",
            "                                                                 \n",
            " batch_normalization_2 (Batc  (None, 16, 16, 64)       256       \n",
            " hNormalization)                                                 \n",
            "                                                                 \n",
            " conv2d_3 (Conv2D)           (None, 16, 16, 64)        36928     \n",
            "                                                                 \n",
            " activation_3 (Activation)   (None, 16, 16, 64)        0         \n",
            "                                                                 \n",
            " batch_normalization_3 (Batc  (None, 16, 16, 64)       256       \n",
            " hNormalization)                                                 \n",
            "                                                                 \n",
            " max_pooling2d_1 (MaxPooling  (None, 8, 8, 64)         0         \n",
            " 2D)                                                             \n",
            "                                                                 \n",
            " dropout_1 (Dropout)         (None, 8, 8, 64)          0         \n",
            "                                                                 \n",
            " conv2d_4 (Conv2D)           (None, 8, 8, 128)         73856     \n",
            "                                                                 \n",
            " activation_4 (Activation)   (None, 8, 8, 128)         0         \n",
            "                                                                 \n",
            " batch_normalization_4 (Batc  (None, 8, 8, 128)        512       \n",
            " hNormalization)                                                 \n",
            "                                                                 \n",
            " conv2d_5 (Conv2D)           (None, 8, 8, 128)         147584    \n",
            "                                                                 \n",
            " activation_5 (Activation)   (None, 8, 8, 128)         0         \n",
            "                                                                 \n",
            " batch_normalization_5 (Batc  (None, 8, 8, 128)        512       \n",
            " hNormalization)                                                 \n",
            "                                                                 \n",
            " max_pooling2d_2 (MaxPooling  (None, 4, 4, 128)        0         \n",
            " 2D)                                                             \n",
            "                                                                 \n",
            " dropout_2 (Dropout)         (None, 4, 4, 128)         0         \n",
            "                                                                 \n",
            " flatten (Flatten)           (None, 2048)              0         \n",
            "                                                                 \n",
            " dense (Dense)               (None, 10)                20490     \n",
            "                                                                 \n",
            "=================================================================\n",
            "Total params: 309,290\n",
            "Trainable params: 308,394\n",
            "Non-trainable params: 896\n",
            "_________________________________________________________________\n"
          ]
        }
      ]
    },
    {
      "cell_type": "code",
      "metadata": {
        "id": "yZXTXQOTdTH-"
      },
      "source": [
        "#data augmentation\n",
        "datagen = ImageDataGenerator(\n",
        "    rotation_range=15,\n",
        "    width_shift_range=0.1,\n",
        "    height_shift_range=0.1,\n",
        "    horizontal_flip=True,\n",
        "    )\n",
        "datagen.fit(x_train)"
      ],
      "execution_count": null,
      "outputs": []
    },
    {
      "cell_type": "code",
      "metadata": {
        "id": "EFcqhtJkdXPw",
        "outputId": "f1355462-08c2-4b1a-ff9e-f5b92bf8c5d8",
        "colab": {
          "base_uri": "https://localhost:8080/"
        }
      },
      "source": [
        "#training\n",
        "batch_size = 64\n",
        "\n",
        "opt_rms = keras.optimizers.RMSprop(lr=0.001,decay=1e-6)\n",
        "model.compile(loss='categorical_crossentropy', optimizer=opt_rms, metrics=['accuracy'])\n",
        "model.fit_generator(datagen.flow(x_train, y_train, batch_size=batch_size),\\\n",
        "                    steps_per_epoch=x_train.shape[0] // batch_size,epochs=125,\\\n",
        "                    verbose=1,validation_data=(x_test,y_test),callbacks=[LearningRateScheduler(lr_schedule)])"
      ],
      "execution_count": null,
      "outputs": [
        {
          "output_type": "stream",
          "name": "stderr",
          "text": [
            "/usr/local/lib/python3.8/dist-packages/keras/optimizers/optimizer_v2/rmsprop.py:135: UserWarning: The `lr` argument is deprecated, use `learning_rate` instead.\n",
            "  super(RMSprop, self).__init__(name, **kwargs)\n",
            "<ipython-input-20-2ccc65038f9f>:6: UserWarning: `Model.fit_generator` is deprecated and will be removed in a future version. Please use `Model.fit`, which supports generators.\n",
            "  model.fit_generator(datagen.flow(x_train, y_train, batch_size=batch_size),\\\n"
          ]
        },
        {
          "output_type": "stream",
          "name": "stdout",
          "text": [
            "Epoch 1/125\n",
            "781/781 [==============================] - 41s 40ms/step - loss: 1.9213 - accuracy: 0.4143 - val_loss: 1.4648 - val_accuracy: 0.5515 - lr: 0.0010\n",
            "Epoch 2/125\n",
            "781/781 [==============================] - 33s 42ms/step - loss: 1.2949 - accuracy: 0.5767 - val_loss: 1.2806 - val_accuracy: 0.6230 - lr: 0.0010\n",
            "Epoch 3/125\n",
            "781/781 [==============================] - 30s 38ms/step - loss: 1.0775 - accuracy: 0.6512 - val_loss: 1.1483 - val_accuracy: 0.6580 - lr: 0.0010\n",
            "Epoch 4/125\n",
            "781/781 [==============================] - 30s 38ms/step - loss: 0.9743 - accuracy: 0.6887 - val_loss: 0.9137 - val_accuracy: 0.7258 - lr: 0.0010\n",
            "Epoch 5/125\n",
            "781/781 [==============================] - 30s 38ms/step - loss: 0.9043 - accuracy: 0.7178 - val_loss: 0.9515 - val_accuracy: 0.7175 - lr: 0.0010\n",
            "Epoch 6/125\n",
            "781/781 [==============================] - 30s 38ms/step - loss: 0.8614 - accuracy: 0.7383 - val_loss: 0.8285 - val_accuracy: 0.7614 - lr: 0.0010\n",
            "Epoch 7/125\n",
            "781/781 [==============================] - 30s 38ms/step - loss: 0.8289 - accuracy: 0.7497 - val_loss: 0.8214 - val_accuracy: 0.7624 - lr: 0.0010\n",
            "Epoch 8/125\n",
            "781/781 [==============================] - 30s 38ms/step - loss: 0.8041 - accuracy: 0.7575 - val_loss: 0.7310 - val_accuracy: 0.7907 - lr: 0.0010\n",
            "Epoch 9/125\n",
            "781/781 [==============================] - 33s 42ms/step - loss: 0.7774 - accuracy: 0.7715 - val_loss: 0.7974 - val_accuracy: 0.7683 - lr: 0.0010\n",
            "Epoch 10/125\n",
            "781/781 [==============================] - 31s 40ms/step - loss: 0.7620 - accuracy: 0.7791 - val_loss: 0.7260 - val_accuracy: 0.7978 - lr: 0.0010\n",
            "Epoch 11/125\n",
            "781/781 [==============================] - 30s 38ms/step - loss: 0.7428 - accuracy: 0.7857 - val_loss: 0.7165 - val_accuracy: 0.8046 - lr: 0.0010\n",
            "Epoch 12/125\n",
            "781/781 [==============================] - 30s 39ms/step - loss: 0.7364 - accuracy: 0.7907 - val_loss: 1.0092 - val_accuracy: 0.7254 - lr: 0.0010\n",
            "Epoch 13/125\n",
            "781/781 [==============================] - 30s 39ms/step - loss: 0.7220 - accuracy: 0.7939 - val_loss: 0.6889 - val_accuracy: 0.8073 - lr: 0.0010\n",
            "Epoch 14/125\n",
            "781/781 [==============================] - 29s 38ms/step - loss: 0.7098 - accuracy: 0.7987 - val_loss: 0.7148 - val_accuracy: 0.8062 - lr: 0.0010\n",
            "Epoch 15/125\n",
            "781/781 [==============================] - 30s 39ms/step - loss: 0.7057 - accuracy: 0.8005 - val_loss: 0.7846 - val_accuracy: 0.7839 - lr: 0.0010\n",
            "Epoch 16/125\n",
            "781/781 [==============================] - 32s 41ms/step - loss: 0.6988 - accuracy: 0.8062 - val_loss: 0.7016 - val_accuracy: 0.8097 - lr: 0.0010\n",
            "Epoch 17/125\n",
            "781/781 [==============================] - 30s 38ms/step - loss: 0.6910 - accuracy: 0.8092 - val_loss: 0.7261 - val_accuracy: 0.8049 - lr: 0.0010\n",
            "Epoch 18/125\n",
            "781/781 [==============================] - 30s 38ms/step - loss: 0.6832 - accuracy: 0.8127 - val_loss: 0.7972 - val_accuracy: 0.7759 - lr: 0.0010\n",
            "Epoch 19/125\n",
            "781/781 [==============================] - 30s 38ms/step - loss: 0.6803 - accuracy: 0.8133 - val_loss: 0.7013 - val_accuracy: 0.8182 - lr: 0.0010\n",
            "Epoch 20/125\n",
            "781/781 [==============================] - 30s 39ms/step - loss: 0.6717 - accuracy: 0.8167 - val_loss: 0.7657 - val_accuracy: 0.8031 - lr: 0.0010\n",
            "Epoch 21/125\n",
            "781/781 [==============================] - 29s 38ms/step - loss: 0.6676 - accuracy: 0.8171 - val_loss: 0.7843 - val_accuracy: 0.7950 - lr: 0.0010\n",
            "Epoch 22/125\n",
            "781/781 [==============================] - 30s 38ms/step - loss: 0.6620 - accuracy: 0.8205 - val_loss: 0.6670 - val_accuracy: 0.8264 - lr: 0.0010\n",
            "Epoch 23/125\n",
            "781/781 [==============================] - 30s 38ms/step - loss: 0.6631 - accuracy: 0.8187 - val_loss: 0.6653 - val_accuracy: 0.8256 - lr: 0.0010\n",
            "Epoch 24/125\n",
            "781/781 [==============================] - 32s 41ms/step - loss: 0.6507 - accuracy: 0.8249 - val_loss: 0.7278 - val_accuracy: 0.8075 - lr: 0.0010\n",
            "Epoch 25/125\n",
            "781/781 [==============================] - 30s 38ms/step - loss: 0.6519 - accuracy: 0.8243 - val_loss: 0.6675 - val_accuracy: 0.8282 - lr: 0.0010\n",
            "Epoch 26/125\n",
            "781/781 [==============================] - 30s 38ms/step - loss: 0.6475 - accuracy: 0.8268 - val_loss: 0.6190 - val_accuracy: 0.8397 - lr: 0.0010\n",
            "Epoch 27/125\n",
            "781/781 [==============================] - 29s 38ms/step - loss: 0.6490 - accuracy: 0.8257 - val_loss: 0.6981 - val_accuracy: 0.8181 - lr: 0.0010\n",
            "Epoch 28/125\n",
            "781/781 [==============================] - 30s 38ms/step - loss: 0.6468 - accuracy: 0.8291 - val_loss: 0.6890 - val_accuracy: 0.8163 - lr: 0.0010\n",
            "Epoch 29/125\n",
            "781/781 [==============================] - 29s 37ms/step - loss: 0.6377 - accuracy: 0.8326 - val_loss: 0.7653 - val_accuracy: 0.7972 - lr: 0.0010\n",
            "Epoch 30/125\n",
            "781/781 [==============================] - 30s 38ms/step - loss: 0.6381 - accuracy: 0.8328 - val_loss: 0.6252 - val_accuracy: 0.8374 - lr: 0.0010\n",
            "Epoch 31/125\n",
            "781/781 [==============================] - 29s 37ms/step - loss: 0.6336 - accuracy: 0.8322 - val_loss: 0.7037 - val_accuracy: 0.8247 - lr: 0.0010\n",
            "Epoch 32/125\n",
            "781/781 [==============================] - 31s 40ms/step - loss: 0.6373 - accuracy: 0.8306 - val_loss: 0.7136 - val_accuracy: 0.8179 - lr: 0.0010\n",
            "Epoch 33/125\n",
            "781/781 [==============================] - 29s 38ms/step - loss: 0.6271 - accuracy: 0.8362 - val_loss: 0.6454 - val_accuracy: 0.8397 - lr: 0.0010\n",
            "Epoch 34/125\n",
            "781/781 [==============================] - 30s 38ms/step - loss: 0.6297 - accuracy: 0.8331 - val_loss: 0.7245 - val_accuracy: 0.8079 - lr: 0.0010\n",
            "Epoch 35/125\n",
            "781/781 [==============================] - 30s 38ms/step - loss: 0.6263 - accuracy: 0.8349 - val_loss: 0.6598 - val_accuracy: 0.8310 - lr: 0.0010\n",
            "Epoch 36/125\n",
            "781/781 [==============================] - 29s 38ms/step - loss: 0.6246 - accuracy: 0.8374 - val_loss: 0.6752 - val_accuracy: 0.8260 - lr: 0.0010\n",
            "Epoch 37/125\n",
            "781/781 [==============================] - 29s 38ms/step - loss: 0.6261 - accuracy: 0.8346 - val_loss: 0.7548 - val_accuracy: 0.8126 - lr: 0.0010\n",
            "Epoch 38/125\n",
            "781/781 [==============================] - 29s 37ms/step - loss: 0.6197 - accuracy: 0.8373 - val_loss: 0.6122 - val_accuracy: 0.8474 - lr: 0.0010\n",
            "Epoch 39/125\n",
            "781/781 [==============================] - 32s 40ms/step - loss: 0.6190 - accuracy: 0.8383 - val_loss: 0.6447 - val_accuracy: 0.8372 - lr: 0.0010\n",
            "Epoch 40/125\n",
            "781/781 [==============================] - 30s 38ms/step - loss: 0.6136 - accuracy: 0.8408 - val_loss: 0.7004 - val_accuracy: 0.8215 - lr: 0.0010\n",
            "Epoch 41/125\n",
            "781/781 [==============================] - 29s 37ms/step - loss: 0.6152 - accuracy: 0.8410 - val_loss: 0.6862 - val_accuracy: 0.8235 - lr: 0.0010\n",
            "Epoch 42/125\n",
            "781/781 [==============================] - 29s 38ms/step - loss: 0.6128 - accuracy: 0.8424 - val_loss: 0.6676 - val_accuracy: 0.8286 - lr: 0.0010\n",
            "Epoch 43/125\n",
            "781/781 [==============================] - 30s 38ms/step - loss: 0.6137 - accuracy: 0.8411 - val_loss: 0.6272 - val_accuracy: 0.8475 - lr: 0.0010\n",
            "Epoch 44/125\n",
            "781/781 [==============================] - 29s 38ms/step - loss: 0.6127 - accuracy: 0.8403 - val_loss: 0.7170 - val_accuracy: 0.8150 - lr: 0.0010\n",
            "Epoch 45/125\n",
            "781/781 [==============================] - 30s 38ms/step - loss: 0.6096 - accuracy: 0.8428 - val_loss: 0.6449 - val_accuracy: 0.8363 - lr: 0.0010\n",
            "Epoch 46/125\n",
            "781/781 [==============================] - 30s 39ms/step - loss: 0.6106 - accuracy: 0.8442 - val_loss: 0.6385 - val_accuracy: 0.8424 - lr: 0.0010\n",
            "Epoch 47/125\n",
            "781/781 [==============================] - 30s 38ms/step - loss: 0.6113 - accuracy: 0.8424 - val_loss: 0.6184 - val_accuracy: 0.8462 - lr: 0.0010\n",
            "Epoch 48/125\n",
            "781/781 [==============================] - 30s 38ms/step - loss: 0.6088 - accuracy: 0.8432 - val_loss: 0.6197 - val_accuracy: 0.8456 - lr: 0.0010\n",
            "Epoch 49/125\n",
            "781/781 [==============================] - 29s 37ms/step - loss: 0.6054 - accuracy: 0.8431 - val_loss: 0.6630 - val_accuracy: 0.8371 - lr: 0.0010\n",
            "Epoch 50/125\n",
            "781/781 [==============================] - 29s 37ms/step - loss: 0.6065 - accuracy: 0.8448 - val_loss: 0.6105 - val_accuracy: 0.8485 - lr: 0.0010\n",
            "Epoch 51/125\n",
            "781/781 [==============================] - 29s 37ms/step - loss: 0.6022 - accuracy: 0.8478 - val_loss: 0.6150 - val_accuracy: 0.8478 - lr: 0.0010\n",
            "Epoch 52/125\n",
            "781/781 [==============================] - 29s 37ms/step - loss: 0.5989 - accuracy: 0.8485 - val_loss: 0.6162 - val_accuracy: 0.8517 - lr: 0.0010\n",
            "Epoch 53/125\n",
            "781/781 [==============================] - 29s 38ms/step - loss: 0.6031 - accuracy: 0.8464 - val_loss: 0.7321 - val_accuracy: 0.8202 - lr: 0.0010\n",
            "Epoch 54/125\n",
            "781/781 [==============================] - 31s 40ms/step - loss: 0.6009 - accuracy: 0.8468 - val_loss: 0.6312 - val_accuracy: 0.8461 - lr: 0.0010\n",
            "Epoch 55/125\n",
            "781/781 [==============================] - 29s 37ms/step - loss: 0.5994 - accuracy: 0.8469 - val_loss: 0.6680 - val_accuracy: 0.8340 - lr: 0.0010\n",
            "Epoch 56/125\n",
            "781/781 [==============================] - 30s 38ms/step - loss: 0.5989 - accuracy: 0.8453 - val_loss: 0.6965 - val_accuracy: 0.8242 - lr: 0.0010\n",
            "Epoch 57/125\n",
            "781/781 [==============================] - 30s 38ms/step - loss: 0.6008 - accuracy: 0.8469 - val_loss: 0.6052 - val_accuracy: 0.8519 - lr: 0.0010\n",
            "Epoch 58/125\n",
            "781/781 [==============================] - 30s 38ms/step - loss: 0.5971 - accuracy: 0.8482 - val_loss: 0.5863 - val_accuracy: 0.8585 - lr: 0.0010\n",
            "Epoch 59/125\n",
            "781/781 [==============================] - 30s 39ms/step - loss: 0.5995 - accuracy: 0.8473 - val_loss: 0.6005 - val_accuracy: 0.8579 - lr: 0.0010\n",
            "Epoch 60/125\n",
            "781/781 [==============================] - 30s 38ms/step - loss: 0.5950 - accuracy: 0.8482 - val_loss: 0.5943 - val_accuracy: 0.8553 - lr: 0.0010\n",
            "Epoch 61/125\n",
            "781/781 [==============================] - 29s 38ms/step - loss: 0.5927 - accuracy: 0.8485 - val_loss: 0.6573 - val_accuracy: 0.8382 - lr: 0.0010\n",
            "Epoch 62/125\n",
            "781/781 [==============================] - 30s 38ms/step - loss: 0.5922 - accuracy: 0.8498 - val_loss: 0.6711 - val_accuracy: 0.8331 - lr: 0.0010\n",
            "Epoch 63/125\n",
            "781/781 [==============================] - 30s 38ms/step - loss: 0.5902 - accuracy: 0.8512 - val_loss: 0.6473 - val_accuracy: 0.8421 - lr: 0.0010\n",
            "Epoch 64/125\n",
            "781/781 [==============================] - 30s 38ms/step - loss: 0.5979 - accuracy: 0.8500 - val_loss: 0.7211 - val_accuracy: 0.8192 - lr: 0.0010\n",
            "Epoch 65/125\n",
            "781/781 [==============================] - 30s 38ms/step - loss: 0.5887 - accuracy: 0.8513 - val_loss: 0.5738 - val_accuracy: 0.8619 - lr: 0.0010\n",
            "Epoch 66/125\n",
            "781/781 [==============================] - 30s 38ms/step - loss: 0.5891 - accuracy: 0.8523 - val_loss: 0.6919 - val_accuracy: 0.8265 - lr: 0.0010\n",
            "Epoch 67/125\n",
            "781/781 [==============================] - 30s 38ms/step - loss: 0.5891 - accuracy: 0.8509 - val_loss: 0.6617 - val_accuracy: 0.8343 - lr: 0.0010\n",
            "Epoch 68/125\n",
            "781/781 [==============================] - 29s 37ms/step - loss: 0.5887 - accuracy: 0.8504 - val_loss: 0.5946 - val_accuracy: 0.8577 - lr: 0.0010\n",
            "Epoch 69/125\n",
            "781/781 [==============================] - 29s 37ms/step - loss: 0.5857 - accuracy: 0.8543 - val_loss: 0.6126 - val_accuracy: 0.8480 - lr: 0.0010\n",
            "Epoch 70/125\n",
            "781/781 [==============================] - 31s 40ms/step - loss: 0.5843 - accuracy: 0.8540 - val_loss: 0.6071 - val_accuracy: 0.8510 - lr: 0.0010\n",
            "Epoch 71/125\n",
            "781/781 [==============================] - 29s 37ms/step - loss: 0.5854 - accuracy: 0.8514 - val_loss: 0.6113 - val_accuracy: 0.8542 - lr: 0.0010\n",
            "Epoch 72/125\n",
            "781/781 [==============================] - 29s 37ms/step - loss: 0.5870 - accuracy: 0.8498 - val_loss: 0.5855 - val_accuracy: 0.8582 - lr: 0.0010\n",
            "Epoch 73/125\n",
            "781/781 [==============================] - 29s 37ms/step - loss: 0.5836 - accuracy: 0.8531 - val_loss: 0.6577 - val_accuracy: 0.8333 - lr: 0.0010\n",
            "Epoch 74/125\n",
            "781/781 [==============================] - 29s 37ms/step - loss: 0.5832 - accuracy: 0.8535 - val_loss: 0.6952 - val_accuracy: 0.8202 - lr: 0.0010\n",
            "Epoch 75/125\n",
            "781/781 [==============================] - 29s 38ms/step - loss: 0.5825 - accuracy: 0.8530 - val_loss: 0.6668 - val_accuracy: 0.8361 - lr: 0.0010\n",
            "Epoch 76/125\n",
            "781/781 [==============================] - 29s 37ms/step - loss: 0.5842 - accuracy: 0.8528 - val_loss: 0.6222 - val_accuracy: 0.8496 - lr: 0.0010\n",
            "Epoch 77/125\n",
            "781/781 [==============================] - 29s 37ms/step - loss: 0.5405 - accuracy: 0.8677 - val_loss: 0.5791 - val_accuracy: 0.8602 - lr: 5.0000e-04\n",
            "Epoch 78/125\n",
            "781/781 [==============================] - 29s 37ms/step - loss: 0.5192 - accuracy: 0.8726 - val_loss: 0.5689 - val_accuracy: 0.8660 - lr: 5.0000e-04\n",
            "Epoch 79/125\n",
            "781/781 [==============================] - 29s 37ms/step - loss: 0.5141 - accuracy: 0.8750 - val_loss: 0.5550 - val_accuracy: 0.8664 - lr: 5.0000e-04\n",
            "Epoch 80/125\n",
            "781/781 [==============================] - 29s 37ms/step - loss: 0.5042 - accuracy: 0.8758 - val_loss: 0.5441 - val_accuracy: 0.8693 - lr: 5.0000e-04\n",
            "Epoch 81/125\n",
            "781/781 [==============================] - 29s 37ms/step - loss: 0.5014 - accuracy: 0.8767 - val_loss: 0.5565 - val_accuracy: 0.8607 - lr: 5.0000e-04\n",
            "Epoch 82/125\n",
            "781/781 [==============================] - 29s 37ms/step - loss: 0.4922 - accuracy: 0.8782 - val_loss: 0.5188 - val_accuracy: 0.8750 - lr: 5.0000e-04\n",
            "Epoch 83/125\n",
            "781/781 [==============================] - 29s 37ms/step - loss: 0.4942 - accuracy: 0.8750 - val_loss: 0.5274 - val_accuracy: 0.8710 - lr: 5.0000e-04\n",
            "Epoch 84/125\n",
            "781/781 [==============================] - 29s 37ms/step - loss: 0.4891 - accuracy: 0.8757 - val_loss: 0.5030 - val_accuracy: 0.8784 - lr: 5.0000e-04\n",
            "Epoch 85/125\n",
            "781/781 [==============================] - 29s 37ms/step - loss: 0.4866 - accuracy: 0.8763 - val_loss: 0.4849 - val_accuracy: 0.8818 - lr: 5.0000e-04\n",
            "Epoch 86/125\n",
            "781/781 [==============================] - 31s 40ms/step - loss: 0.4835 - accuracy: 0.8788 - val_loss: 0.5387 - val_accuracy: 0.8666 - lr: 5.0000e-04\n",
            "Epoch 87/125\n",
            "781/781 [==============================] - 28s 36ms/step - loss: 0.4838 - accuracy: 0.8768 - val_loss: 0.5671 - val_accuracy: 0.8582 - lr: 5.0000e-04\n",
            "Epoch 88/125\n",
            "781/781 [==============================] - 29s 37ms/step - loss: 0.4823 - accuracy: 0.8771 - val_loss: 0.5646 - val_accuracy: 0.8608 - lr: 5.0000e-04\n",
            "Epoch 89/125\n",
            "781/781 [==============================] - 28s 36ms/step - loss: 0.4811 - accuracy: 0.8781 - val_loss: 0.5254 - val_accuracy: 0.8672 - lr: 5.0000e-04\n",
            "Epoch 90/125\n",
            "781/781 [==============================] - 29s 37ms/step - loss: 0.4771 - accuracy: 0.8781 - val_loss: 0.4965 - val_accuracy: 0.8739 - lr: 5.0000e-04\n",
            "Epoch 91/125\n",
            "781/781 [==============================] - 28s 36ms/step - loss: 0.4756 - accuracy: 0.8782 - val_loss: 0.5027 - val_accuracy: 0.8776 - lr: 5.0000e-04\n",
            "Epoch 92/125\n",
            "781/781 [==============================] - 28s 36ms/step - loss: 0.4716 - accuracy: 0.8795 - val_loss: 0.5250 - val_accuracy: 0.8725 - lr: 5.0000e-04\n",
            "Epoch 93/125\n",
            "781/781 [==============================] - 31s 40ms/step - loss: 0.4713 - accuracy: 0.8801 - val_loss: 0.5246 - val_accuracy: 0.8672 - lr: 5.0000e-04\n",
            "Epoch 94/125\n",
            "781/781 [==============================] - 28s 36ms/step - loss: 0.4672 - accuracy: 0.8813 - val_loss: 0.5113 - val_accuracy: 0.8706 - lr: 5.0000e-04\n",
            "Epoch 95/125\n",
            "781/781 [==============================] - 29s 37ms/step - loss: 0.4742 - accuracy: 0.8781 - val_loss: 0.5079 - val_accuracy: 0.8755 - lr: 5.0000e-04\n",
            "Epoch 96/125\n",
            "781/781 [==============================] - 29s 37ms/step - loss: 0.4703 - accuracy: 0.8785 - val_loss: 0.4973 - val_accuracy: 0.8759 - lr: 5.0000e-04\n",
            "Epoch 97/125\n",
            "781/781 [==============================] - 29s 37ms/step - loss: 0.4674 - accuracy: 0.8801 - val_loss: 0.5463 - val_accuracy: 0.8627 - lr: 5.0000e-04\n",
            "Epoch 98/125\n",
            "781/781 [==============================] - 29s 37ms/step - loss: 0.4645 - accuracy: 0.8796 - val_loss: 0.4897 - val_accuracy: 0.8791 - lr: 5.0000e-04\n",
            "Epoch 99/125\n",
            "781/781 [==============================] - 29s 36ms/step - loss: 0.4676 - accuracy: 0.8794 - val_loss: 0.5775 - val_accuracy: 0.8509 - lr: 5.0000e-04\n",
            "Epoch 100/125\n",
            "781/781 [==============================] - 29s 37ms/step - loss: 0.4665 - accuracy: 0.8801 - val_loss: 0.4917 - val_accuracy: 0.8727 - lr: 5.0000e-04\n",
            "Epoch 101/125\n",
            "781/781 [==============================] - 28s 36ms/step - loss: 0.4587 - accuracy: 0.8800 - val_loss: 0.5187 - val_accuracy: 0.8675 - lr: 5.0000e-04\n",
            "Epoch 102/125\n",
            "781/781 [==============================] - 31s 39ms/step - loss: 0.4618 - accuracy: 0.8809 - val_loss: 0.5062 - val_accuracy: 0.8719 - lr: 5.0000e-04\n",
            "Epoch 103/125\n",
            "781/781 [==============================] - 28s 36ms/step - loss: 0.4625 - accuracy: 0.8802 - val_loss: 0.4903 - val_accuracy: 0.8753 - lr: 5.0000e-04\n",
            "Epoch 104/125\n",
            "781/781 [==============================] - 29s 37ms/step - loss: 0.4610 - accuracy: 0.8800 - val_loss: 0.5152 - val_accuracy: 0.8697 - lr: 5.0000e-04\n",
            "Epoch 105/125\n",
            "781/781 [==============================] - 29s 37ms/step - loss: 0.4585 - accuracy: 0.8809 - val_loss: 0.5727 - val_accuracy: 0.8546 - lr: 5.0000e-04\n",
            "Epoch 106/125\n",
            "781/781 [==============================] - 28s 36ms/step - loss: 0.4587 - accuracy: 0.8819 - val_loss: 0.5154 - val_accuracy: 0.8687 - lr: 5.0000e-04\n",
            "Epoch 107/125\n",
            "781/781 [==============================] - 28s 36ms/step - loss: 0.4594 - accuracy: 0.8825 - val_loss: 0.5877 - val_accuracy: 0.8512 - lr: 5.0000e-04\n",
            "Epoch 108/125\n",
            "781/781 [==============================] - 29s 37ms/step - loss: 0.4583 - accuracy: 0.8816 - val_loss: 0.4779 - val_accuracy: 0.8787 - lr: 5.0000e-04\n",
            "Epoch 109/125\n",
            "781/781 [==============================] - 28s 36ms/step - loss: 0.4533 - accuracy: 0.8827 - val_loss: 0.5465 - val_accuracy: 0.8592 - lr: 5.0000e-04\n",
            "Epoch 110/125\n",
            "781/781 [==============================] - 30s 39ms/step - loss: 0.4535 - accuracy: 0.8822 - val_loss: 0.5107 - val_accuracy: 0.8742 - lr: 5.0000e-04\n",
            "Epoch 111/125\n",
            "781/781 [==============================] - 28s 36ms/step - loss: 0.4549 - accuracy: 0.8818 - val_loss: 0.5293 - val_accuracy: 0.8645 - lr: 5.0000e-04\n",
            "Epoch 112/125\n",
            "781/781 [==============================] - 29s 37ms/step - loss: 0.4539 - accuracy: 0.8827 - val_loss: 0.4948 - val_accuracy: 0.8747 - lr: 5.0000e-04\n",
            "Epoch 113/125\n",
            "781/781 [==============================] - 28s 36ms/step - loss: 0.4572 - accuracy: 0.8802 - val_loss: 0.4884 - val_accuracy: 0.8720 - lr: 5.0000e-04\n",
            "Epoch 114/125\n",
            "781/781 [==============================] - 28s 36ms/step - loss: 0.4493 - accuracy: 0.8832 - val_loss: 0.5261 - val_accuracy: 0.8684 - lr: 5.0000e-04\n",
            "Epoch 115/125\n",
            "781/781 [==============================] - 28s 36ms/step - loss: 0.4535 - accuracy: 0.8804 - val_loss: 0.5251 - val_accuracy: 0.8711 - lr: 5.0000e-04\n",
            "Epoch 116/125\n",
            "781/781 [==============================] - 29s 37ms/step - loss: 0.4522 - accuracy: 0.8842 - val_loss: 0.5203 - val_accuracy: 0.8698 - lr: 5.0000e-04\n",
            "Epoch 117/125\n",
            "781/781 [==============================] - 28s 36ms/step - loss: 0.4475 - accuracy: 0.8851 - val_loss: 0.5756 - val_accuracy: 0.8504 - lr: 5.0000e-04\n",
            "Epoch 118/125\n",
            "781/781 [==============================] - 28s 36ms/step - loss: 0.4471 - accuracy: 0.8846 - val_loss: 0.5022 - val_accuracy: 0.8753 - lr: 5.0000e-04\n",
            "Epoch 119/125\n",
            "781/781 [==============================] - 29s 37ms/step - loss: 0.4466 - accuracy: 0.8852 - val_loss: 0.5079 - val_accuracy: 0.8730 - lr: 5.0000e-04\n",
            "Epoch 120/125\n",
            "781/781 [==============================] - 28s 36ms/step - loss: 0.4484 - accuracy: 0.8854 - val_loss: 0.4921 - val_accuracy: 0.8756 - lr: 5.0000e-04\n",
            "Epoch 121/125\n",
            "781/781 [==============================] - 28s 36ms/step - loss: 0.4527 - accuracy: 0.8838 - val_loss: 0.4842 - val_accuracy: 0.8736 - lr: 5.0000e-04\n",
            "Epoch 122/125\n",
            "781/781 [==============================] - 28s 36ms/step - loss: 0.4528 - accuracy: 0.8815 - val_loss: 0.4962 - val_accuracy: 0.8740 - lr: 5.0000e-04\n",
            "Epoch 123/125\n",
            "781/781 [==============================] - 29s 37ms/step - loss: 0.4478 - accuracy: 0.8829 - val_loss: 0.5021 - val_accuracy: 0.8692 - lr: 5.0000e-04\n",
            "Epoch 124/125\n",
            "781/781 [==============================] - 29s 37ms/step - loss: 0.4492 - accuracy: 0.8831 - val_loss: 0.5343 - val_accuracy: 0.8655 - lr: 5.0000e-04\n",
            "Epoch 125/125\n",
            "781/781 [==============================] - 28s 36ms/step - loss: 0.4519 - accuracy: 0.8829 - val_loss: 0.5227 - val_accuracy: 0.8663 - lr: 5.0000e-04\n"
          ]
        },
        {
          "output_type": "execute_result",
          "data": {
            "text/plain": [
              "<keras.callbacks.History at 0x7f4fd6b4a6a0>"
            ]
          },
          "metadata": {},
          "execution_count": 20
        }
      ]
    },
    {
      "cell_type": "code",
      "metadata": {
        "id": "Uoa2Xze-g0vE",
        "colab": {
          "base_uri": "https://localhost:8080/"
        },
        "outputId": "288faddb-c68a-4aea-8c34-6ec90e101045"
      },
      "source": [
        "model.save('model_trojan.h5py')"
      ],
      "execution_count": null,
      "outputs": [
        {
          "output_type": "stream",
          "name": "stderr",
          "text": [
            "WARNING:absl:Found untraced functions such as _jit_compiled_convolution_op, _jit_compiled_convolution_op, _jit_compiled_convolution_op, _jit_compiled_convolution_op, _jit_compiled_convolution_op while saving (showing 5 of 6). These functions will not be directly callable after loading.\n"
          ]
        }
      ]
    },
    {
      "cell_type": "code",
      "source": [
        "!zip -r model_trojan.h5py.zip model_trojan.h5py"
      ],
      "metadata": {
        "colab": {
          "base_uri": "https://localhost:8080/"
        },
        "id": "bRZ0VGZF5vK4",
        "outputId": "48dd28a4-a09c-480e-d924-548ae879014f"
      },
      "execution_count": null,
      "outputs": [
        {
          "output_type": "stream",
          "name": "stdout",
          "text": [
            "  adding: model_trojan.h5py/ (stored 0%)\n",
            "  adding: model_trojan.h5py/assets/ (stored 0%)\n",
            "  adding: model_trojan.h5py/keras_metadata.pb (deflated 94%)\n",
            "  adding: model_trojan.h5py/variables/ (stored 0%)\n",
            "  adding: model_trojan.h5py/variables/variables.data-00000-of-00001 (deflated 9%)\n",
            "  adding: model_trojan.h5py/variables/variables.index (deflated 73%)\n",
            "  adding: model_trojan.h5py/saved_model.pb (deflated 90%)\n"
          ]
        }
      ]
    },
    {
      "cell_type": "code",
      "source": [
        "!unzip model_trojan.h5py.zip"
      ],
      "metadata": {
        "colab": {
          "base_uri": "https://localhost:8080/"
        },
        "id": "W3-dr9WJDLPF",
        "outputId": "562ecc27-fc89-46de-91d6-c45079efbae2"
      },
      "execution_count": null,
      "outputs": [
        {
          "output_type": "stream",
          "name": "stdout",
          "text": [
            "Archive:  model_trojan.h5py.zip\n",
            "   creating: model_trojan.h5py/\n",
            "   creating: model_trojan.h5py/assets/\n",
            "  inflating: model_trojan.h5py/keras_metadata.pb  \n",
            "   creating: model_trojan.h5py/variables/\n",
            "  inflating: model_trojan.h5py/variables/variables.data-00000-of-00001  \n",
            "  inflating: model_trojan.h5py/variables/variables.index  \n",
            "  inflating: model_trojan.h5py/saved_model.pb  \n"
          ]
        }
      ]
    },
    {
      "cell_type": "code",
      "metadata": {
        "id": "j_K4b8LNd0N_",
        "outputId": "b661bf3b-cd65-4514-f479-c28c2f9a2101",
        "colab": {
          "base_uri": "https://localhost:8080/"
        }
      },
      "source": [
        "#testing classification rate of clean inputs\n",
        "scores = model.evaluate(x_test, y_test, batch_size=128, verbose=1)\n",
        "print('\\nTest result: %.3f loss: %.3f' % (scores[1]*100,scores[0]))"
      ],
      "execution_count": null,
      "outputs": [
        {
          "output_type": "stream",
          "name": "stdout",
          "text": [
            "79/79 [==============================] - 1s 8ms/step - loss: 0.5227 - accuracy: 0.8663\n",
            "\n",
            "Test result: 86.630 loss: 0.523\n"
          ]
        }
      ]
    },
    {
      "cell_type": "code",
      "metadata": {
        "id": "dS5CfyOM70G4"
      },
      "source": [
        "#load the train model back, no need to run\n",
        "from keras.models import load_model\n",
        "# model =  load_model('model_trojan.h5py')\n",
        "# model =  load_model('model_CIFAR10_T2_DNN.h5py')\n",
        "model =  load_model('model_trojan.h5py')"
      ],
      "execution_count": null,
      "outputs": []
    },
    {
      "cell_type": "code",
      "metadata": {
        "id": "Y8mpCXuCM4dc",
        "outputId": "c62cab4e-ebe0-412a-8737-fe754a5f4a7d",
        "colab": {
          "base_uri": "https://localhost:8080/"
        }
      },
      "source": [
        "#test attack success rate using trojaned inputs.\n",
        "#note: do not rerun it, if you want to rerun it, please first reload the data. Because the x_test is trojaned once you run it.\n",
        "x_test_p = np.zeros(x_test.shape)\n",
        "for i in range(x_test.shape[0]):\n",
        "    x_test_p[i]=poison(x_test[i])\n",
        "y_pred=model.predict(x_test_p)\n",
        "c=0\n",
        "for i in range(x_test_p.shape[0]):\n",
        "    if np.argmax(y_pred[i]) == 7:\n",
        "        c=c+1\n",
        "print(\"  \",c*100.0/x_test_p.shape[0])"
      ],
      "execution_count": null,
      "outputs": [
        {
          "output_type": "stream",
          "name": "stdout",
          "text": [
            "313/313 [==============================] - 1s 3ms/step\n",
            "   100.0\n"
          ]
        }
      ]
    },
    {
      "cell_type": "code",
      "metadata": {
        "id": "GbWj1p8KNcHz",
        "outputId": "5b7c7d45-3271-430d-c44a-56854c95326b",
        "colab": {
          "base_uri": "https://localhost:8080/"
        }
      },
      "source": [
        "import math\n",
        "import random\n",
        "import numpy as np\n",
        "import time\n",
        "import scipy\n",
        "  \n",
        "def superimpose(background, overlay):\n",
        "  added_image = cv2.addWeighted(background,1,overlay,1,0)\n",
        "  return (added_image.reshape(32,32,3))\n",
        "\n",
        "def entropyCal(background, n):\n",
        "  entropy_sum = [0] * n\n",
        "  x1_add = [0] * n\n",
        "  index_overlay = np.random.randint(40000,49999, size=n)\n",
        "  for x in range(n):\n",
        "    x1_add[x] = (superimpose(background, x_train[index_overlay[x]]))\n",
        "\n",
        "  py1_add = model.predict(np.array(x1_add), verbose = 0)\n",
        "  EntropySum = -np.nansum(py1_add*np.log2(py1_add))\n",
        "  return EntropySum\n",
        "\n",
        "n_test = 2000\n",
        "n_sample = 100\n",
        "entropy_benigh = [0] * n_test\n",
        "entropy_trojan = [0] * n_test\n",
        "# x_poison = [0] * n_test\n",
        "\n",
        "for j in range(n_test):\n",
        "  if 0 == j%100:\n",
        "    print(j)\n",
        "  x_background = x_train[j+26000] \n",
        "  entropy_benigh[j] = entropyCal(x_background, n_sample)\n",
        "\n",
        "for j in range(n_test):\n",
        "  if 0 == j%100:\n",
        "    print(j)\n",
        "  x_poison = poison(x_train[j+14000])\n",
        "  entropy_trojan[j] = entropyCal(x_poison, n_sample)\n",
        "\n",
        "entropy_benigh = [x / n_sample for x in entropy_benigh] # get entropy for 2000 clean inputs\n",
        "entropy_trojan = [x / n_sample for x in entropy_trojan] # get entropy for 2000 trojaned inputs"
      ],
      "execution_count": null,
      "outputs": [
        {
          "output_type": "stream",
          "name": "stdout",
          "text": [
            "0\n",
            "100\n",
            "200\n",
            "300\n",
            "400\n",
            "500\n",
            "600\n",
            "700\n",
            "800\n",
            "900\n",
            "1000\n",
            "1100\n",
            "1200\n",
            "1300\n",
            "1400\n",
            "1500\n",
            "1600\n",
            "1700\n",
            "1800\n",
            "1900\n",
            "0\n"
          ]
        },
        {
          "output_type": "stream",
          "name": "stderr",
          "text": [
            "<ipython-input-47-87272b68b225>:19: RuntimeWarning: divide by zero encountered in log2\n",
            "  EntropySum = -np.nansum(py1_add*np.log2(py1_add))\n",
            "<ipython-input-47-87272b68b225>:19: RuntimeWarning: invalid value encountered in multiply\n",
            "  EntropySum = -np.nansum(py1_add*np.log2(py1_add))\n"
          ]
        },
        {
          "output_type": "stream",
          "name": "stdout",
          "text": [
            "100\n",
            "200\n",
            "300\n",
            "400\n",
            "500\n",
            "600\n",
            "700\n",
            "800\n",
            "900\n",
            "1000\n",
            "1100\n",
            "1200\n",
            "1300\n",
            "1400\n",
            "1500\n",
            "1600\n",
            "1700\n",
            "1800\n",
            "1900\n"
          ]
        }
      ]
    },
    {
      "cell_type": "code",
      "metadata": {
        "id": "FWVHBcX-Py1p",
        "outputId": "b6bbf0c1-128b-4df2-aba5-a36ff54ecd50",
        "colab": {
          "base_uri": "https://localhost:8080/",
          "height": 662
        }
      },
      "source": [
        "plt.figure(figsize = (18,10))\n",
        "bins = 30\n",
        "plt.hist(entropy_benigh, bins, weights=np.ones(len(entropy_benigh)) / len(entropy_benigh), alpha=1, label='without trojan')\n",
        "# plt.hist(entropy_trojan, bins, weights=np.ones(len(entropy_trojan)) / len(entropy_trojan), alpha=1, label='with trojan')\n",
        "plt.legend(loc='upper right', fontsize = 40)\n",
        "plt.ylabel('Probability (%)', fontsize = 40)\n",
        "plt.title('normalized entropy', fontsize = 40)\n",
        "plt.tick_params(labelsize=40)\n",
        "\n",
        "fig1 = plt.gcf()\n",
        "plt.show()\n",
        "# fig1.savefig('EntropyDNNDist_T2.pdf')# save the fig as pdf file\n",
        "fig1.savefig('EntropyDNNDist_T3.svg')# save the fig as pdf file"
      ],
      "execution_count": null,
      "outputs": [
        {
          "output_type": "display_data",
          "data": {
            "text/plain": [
              "<Figure size 1296x720 with 1 Axes>"
            ],
            "image/png": "[encoded data removed]"
          },
          "metadata": {
            "needs_background": "light"
          }
        }
      ]
    },
    {
      "cell_type": "code",
      "metadata": {
        "id": "RsmCv0rECzKH",
        "colab": {
          "base_uri": "https://localhost:8080/",
          "height": 675
        },
        "outputId": "7321a951-a275-436f-f6bd-9a3e2ebe7f1a"
      },
      "source": [
        "# As trojaned entropy is sometimes too small to be visible. \n",
        "# This is to visulize the entropy distribution of the trojaned inputs under such case.\n",
        "plt.figure(figsize = (18,10))\n",
        "bins = np.linspace(0, max(entropy_trojan), 30)\n",
        "plt.hist(entropy_trojan, bins, weights=np.ones(len(entropy_trojan)) / len(entropy_trojan), alpha=1, label='with trojan')\n",
        "\n",
        "\n",
        "plt.legend(loc='upper right', fontsize = 40)\n",
        "plt.ylabel('Probability (%)', fontsize = 40)\n",
        "plt.title('normalized entropy', fontsize = 40)\n",
        "plt.tick_params(labelsize=40)\n",
        "\n",
        "fig1 = plt.gcf()\n",
        "plt.show()"
      ],
      "execution_count": null,
      "outputs": [
        {
          "output_type": "display_data",
          "data": {
            "text/plain": [
              "<Figure size 1296x720 with 1 Axes>"
            ],
            "image/png": "[encoded data removed]"
          },
          "metadata": {
            "needs_background": "light"
          }
        }
      ]
    },
    {
      "cell_type": "code",
      "metadata": {
        "id": "5HlVwbXPRrJB",
        "outputId": "009127c2-7572-4b30-cb2c-f9f38251ae60",
        "colab": {
          "base_uri": "https://localhost:8080/"
        }
      },
      "source": [
        "import scipy\n",
        "import scipy.stats\n",
        "\n",
        "(mu, sigma) = scipy.stats.norm.fit(entropy_benigh)\n",
        "print(mu, sigma)\n",
        "\n",
        "threshold = scipy.stats.norm.ppf(0.01, loc = mu, scale =  sigma) #use a preset FRR of 0.01. This can be \n",
        "print(threshold)\n",
        "\n",
        "FAR = sum(i > threshold for i in entropy_trojan)\n",
        "print(FAR/2000*100) #reproduce results in Table 3 of our paper"
      ],
      "execution_count": null,
      "outputs": [
        {
          "output_type": "stream",
          "name": "stdout",
          "text": [
            "0.8597690513825417 0.2696954802914974\n",
            "0.2323635441679932\n",
            "0.0\n"
          ]
        }
      ]
    },
    {
      "cell_type": "code",
      "metadata": {
        "id": "HPV8oNScR6lA",
        "outputId": "7dee6dc6-34e9-4659-8f3a-ea3c50e765e5",
        "colab": {
          "base_uri": "https://localhost:8080/"
        }
      },
      "source": [
        "min_benign_entropy = min(entropy_benigh)\n",
        "max_trojan_entropy = max(entropy_trojan)\n",
        "\n",
        "print(min_benign_entropy)# check min entropy of clean inputs\n",
        "print(max_trojan_entropy)# check max entropy of trojaned inputs\n"
      ],
      "execution_count": null,
      "outputs": [
        {
          "output_type": "stream",
          "name": "stdout",
          "text": [
            "0.022291274070739747\n",
            "5.757430102676153e-05\n"
          ]
        }
      ]
    },
    {
      "cell_type": "code",
      "metadata": {
        "id": "sKnwcC3bEXWv"
      },
      "source": [],
      "execution_count": null,
      "outputs": []
    }
  ]
}